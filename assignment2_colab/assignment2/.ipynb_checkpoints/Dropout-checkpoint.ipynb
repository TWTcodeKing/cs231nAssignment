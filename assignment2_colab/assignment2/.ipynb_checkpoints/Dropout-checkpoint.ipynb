{
 "cells": [
  {
   "cell_type": "code",
   "execution_count": null,
   "metadata": {},
   "outputs": [],
   "source": [
    "# This mounts your Google Drive to the Colab VM.\n",
    "from google.colab import drive\n",
    "drive.mount('/content/drive')\n",
    "\n",
    "# TODO: Enter the foldername in your Drive where you have saved the unzipped\n",
    "# assignment folder, e.g. 'cs231n/assignments/assignment1/'\n",
    "FOLDERNAME = None\n",
    "assert FOLDERNAME is not None, \"[!] Enter the foldername.\"\n",
    "\n",
    "# Now that we've mounted your Drive, this ensures that\n",
    "# the Python interpreter of the Colab VM can load\n",
    "# python files from within it.\n",
    "import sys\n",
    "sys.path.append('/content/drive/My Drive/{}'.format(FOLDERNAME))\n",
    "\n",
    "# This downloads the CIFAR-10 dataset to your Drive\n",
    "# if it doesn't already exist.\n",
    "%cd /content/drive/My\\ Drive/$FOLDERNAME/cs231n/datasets/\n",
    "!bash get_datasets.sh\n",
    "%cd /content/drive/My\\ Drive/$FOLDERNAME"
   ]
  },
  {
   "cell_type": "markdown",
   "metadata": {
    "tags": [
     "pdf-title"
    ]
   },
   "source": [
    "# Dropout\n",
    "Dropout [1] is a technique for regularizing neural networks by randomly setting some output activations to zero during the forward pass. In this exercise, you will implement a dropout layer and modify your fully connected network to optionally use dropout.\n",
    "\n",
    "[1] [Geoffrey E. Hinton et al, \"Improving neural networks by preventing co-adaptation of feature detectors\", arXiv 2012](https://arxiv.org/abs/1207.0580)"
   ]
  },
  {
   "cell_type": "code",
   "execution_count": 1,
   "metadata": {
    "tags": [
     "pdf-ignore"
    ]
   },
   "outputs": [
    {
     "name": "stdout",
     "output_type": "stream",
     "text": [
      "=========== You can safely ignore the message below if you are NOT working on ConvolutionalNetworks.ipynb ===========\n",
      "\tYou will need to compile a Cython extension for a portion of this assignment.\n",
      "\tThe instructions to do this will be given in a section of the notebook below.\n"
     ]
    }
   ],
   "source": [
    "# Setup cell.\n",
    "import time\n",
    "import numpy as np\n",
    "import matplotlib.pyplot as plt\n",
    "from cs231n.classifiers.fc_net import *\n",
    "from cs231n.data_utils import get_CIFAR10_data\n",
    "from cs231n.gradient_check import eval_numerical_gradient, eval_numerical_gradient_array\n",
    "from cs231n.solver import Solver\n",
    "\n",
    "%matplotlib inline\n",
    "plt.rcParams[\"figure.figsize\"] = (10.0, 8.0)  # Set default size of plots.\n",
    "plt.rcParams[\"image.interpolation\"] = \"nearest\"\n",
    "plt.rcParams[\"image.cmap\"] = \"gray\"\n",
    "\n",
    "%load_ext autoreload\n",
    "%autoreload 2\n",
    "\n",
    "def rel_error(x, y):\n",
    "    \"\"\"Returns relative error.\"\"\"\n",
    "    return np.max(np.abs(x - y) / (np.maximum(1e-8, np.abs(x) + np.abs(y))))"
   ]
  },
  {
   "cell_type": "code",
   "execution_count": 2,
   "metadata": {
    "tags": [
     "pdf-ignore"
    ]
   },
   "outputs": [
    {
     "name": "stdout",
     "output_type": "stream",
     "text": [
      "X_train: (49000, 3, 32, 32)\n",
      "y_train: (49000,)\n",
      "X_val: (1000, 3, 32, 32)\n",
      "y_val: (1000,)\n",
      "X_test: (1000, 3, 32, 32)\n",
      "y_test: (1000,)\n"
     ]
    }
   ],
   "source": [
    "# Load the (preprocessed) CIFAR-10 data.\n",
    "data = get_CIFAR10_data()\n",
    "for k, v in list(data.items()):\n",
    "    print(f\"{k}: {v.shape}\")"
   ]
  },
  {
   "cell_type": "markdown",
   "metadata": {},
   "source": [
    "# Dropout: Forward Pass\n",
    "In the file `cs231n/layers.py`, implement the forward pass for dropout. Since dropout behaves differently during training and testing, make sure to implement the operation for both modes.\n",
    "\n",
    "Once you have done so, run the cell below to test your implementation."
   ]
  },
  {
   "cell_type": "code",
   "execution_count": 17,
   "metadata": {},
   "outputs": [
    {
     "name": "stdout",
     "output_type": "stream",
     "text": [
      "Running tests with p =  0.25\n",
      "Mean of input:  10.000207878477502\n",
      "Mean of train-time output:  2.5035147792443206\n",
      "Mean of test-time output:  10.000207878477502\n",
      "Fraction of train-time output set to zero:  0.749784\n",
      "Fraction of test-time output set to zero:  0.0\n",
      "\n",
      "Running tests with p =  0.4\n",
      "Mean of input:  10.000207878477502\n",
      "Mean of train-time output:  3.991167063504464\n",
      "Mean of test-time output:  10.000207878477502\n",
      "Fraction of train-time output set to zero:  0.600796\n",
      "Fraction of test-time output set to zero:  0.0\n",
      "\n",
      "Running tests with p =  0.7\n",
      "Mean of input:  10.000207878477502\n",
      "Mean of train-time output:  6.9914683385116\n",
      "Mean of test-time output:  10.000207878477502\n",
      "Fraction of train-time output set to zero:  0.30074\n",
      "Fraction of test-time output set to zero:  0.0\n",
      "\n"
     ]
    }
   ],
   "source": [
    "np.random.seed(231)\n",
    "x = np.random.randn(500, 500) + 10\n",
    "\n",
    "for p in [0.25, 0.4, 0.7]:\n",
    "    out, _ = dropout_forward(x, {'mode': 'train', 'p': p})\n",
    "    out_test, _ = dropout_forward(x, {'mode': 'test', 'p': p})\n",
    "\n",
    "    print('Running tests with p = ', p)\n",
    "    print('Mean of input: ', x.mean())\n",
    "    print('Mean of train-time output: ', out.mean())\n",
    "    print('Mean of test-time output: ', out_test.mean())\n",
    "    print('Fraction of train-time output set to zero: ', (out == 0).mean())\n",
    "    print('Fraction of test-time output set to zero: ', (out_test == 0).mean())\n",
    "    print()"
   ]
  },
  {
   "cell_type": "markdown",
   "metadata": {},
   "source": [
    "# Dropout: Backward Pass\n",
    "In the file `cs231n/layers.py`, implement the backward pass for dropout. After doing so, run the following cell to numerically gradient-check your implementation."
   ]
  },
  {
   "cell_type": "code",
   "execution_count": 5,
   "metadata": {},
   "outputs": [
    {
     "name": "stdout",
     "output_type": "stream",
     "text": [
      "dx relative error:  1.8928951796143967e-11\n"
     ]
    }
   ],
   "source": [
    "np.random.seed(231)\n",
    "x = np.random.randn(10, 10) + 10\n",
    "dout = np.random.randn(*x.shape)\n",
    "\n",
    "dropout_param = {'mode': 'train', 'p': 0.2, 'seed': 123}\n",
    "out, cache = dropout_forward(x, dropout_param)\n",
    "dx = dropout_backward(dout, cache)\n",
    "dx_num = eval_numerical_gradient_array(lambda xx: dropout_forward(xx, dropout_param)[0], x, dout)\n",
    "\n",
    "# Error should be around e-10 or less.\n",
    "print('dx relative error: ', rel_error(dx, dx_num))"
   ]
  },
  {
   "cell_type": "markdown",
   "metadata": {
    "tags": [
     "pdf-inline"
    ]
   },
   "source": [
    "## Inline Question 1:\n",
    "What happens if we do not divide the values being passed through inverse dropout by `p` in the dropout layer? Why does that happen?\n",
    "\n",
    "## Answer:\n",
    "[FILL THIS IN]\n"
   ]
  },
  {
   "cell_type": "markdown",
   "metadata": {},
   "source": [
    "# Fully Connected Networks with Dropout\n",
    "In the file `cs231n/classifiers/fc_net.py`, modify your implementation to use dropout. Specifically, if the constructor of the network receives a value that is not 1 for the `dropout_keep_ratio` parameter, then the net should add a dropout layer immediately after every ReLU nonlinearity. After doing so, run the following to numerically gradient-check your implementation."
   ]
  },
  {
   "cell_type": "code",
   "execution_count": 13,
   "metadata": {},
   "outputs": [
    {
     "name": "stdout",
     "output_type": "stream",
     "text": [
      "Running check with dropout =  1\n",
      "Initial loss:  2.3005791853482385\n",
      "W1 relative error: 1.33e-07\n",
      "W2 relative error: 7.65e-05\n",
      "W3 relative error: 3.61e-07\n",
      "b1 relative error: 5.24e-09\n",
      "b2 relative error: 1.67e-09\n",
      "b3 relative error: 1.43e-10\n",
      "\n",
      "Running check with dropout =  0.75\n",
      "Initial loss:  2.3039652115812617\n",
      "W1 relative error: 1.12e-07\n",
      "W2 relative error: 4.33e-06\n",
      "W3 relative error: 8.33e-07\n",
      "b1 relative error: 4.44e-09\n",
      "b2 relative error: 9.18e-09\n",
      "b3 relative error: 9.55e-11\n",
      "\n",
      "Running check with dropout =  0.5\n",
      "Initial loss:  2.3045702929492276\n",
      "W1 relative error: 4.24e-08\n",
      "W2 relative error: 1.06e-07\n",
      "W3 relative error: 2.38e-07\n",
      "b1 relative error: 2.24e-08\n",
      "b2 relative error: 2.81e-09\n",
      "b3 relative error: 9.68e-11\n",
      "\n"
     ]
    }
   ],
   "source": [
    "np.random.seed(231)\n",
    "N, D, H1, H2, C = 2, 15, 20, 30, 10\n",
    "X = np.random.randn(N, D)\n",
    "y = np.random.randint(C, size=(N,))\n",
    "\n",
    "for dropout_keep_ratio in [1, 0.75, 0.5]:\n",
    "    print('Running check with dropout = ', dropout_keep_ratio)\n",
    "    model = FullyConnectedNet(\n",
    "        [H1, H2],\n",
    "        input_dim=D,\n",
    "        num_classes=C,\n",
    "        weight_scale=5e-2,\n",
    "        dtype=np.float64,\n",
    "        dropout_keep_ratio=dropout_keep_ratio,\n",
    "        seed=123\n",
    "    )\n",
    "\n",
    "    loss, grads = model.loss(X, y)\n",
    "    print('Initial loss: ', loss)\n",
    "\n",
    "    # Relative errors should be around e-6 or less.\n",
    "    # Note that it's fine if for dropout_keep_ratio=1 you have W2 error be on the order of e-5.\n",
    "    for name in sorted(grads):\n",
    "        f = lambda _: model.loss(X, y)[0]\n",
    "        grad_num = eval_numerical_gradient(f, model.params[name], verbose=False, h=1e-5)\n",
    "        print('%s relative error: %.2e' % (name, rel_error(grad_num, grads[name])))\n",
    "    print()"
   ]
  },
  {
   "cell_type": "markdown",
   "metadata": {},
   "source": [
    "# Regularization Experiment\n",
    "As an experiment, we will train a pair of two-layer networks on 500 training examples: one will use no dropout, and one will use a keep probability of 0.25. We will then visualize the training and validation accuracies of the two networks over time."
   ]
  },
  {
   "cell_type": "code",
   "execution_count": 25,
   "metadata": {
    "scrolled": false
   },
   "outputs": [
    {
     "name": "stdout",
     "output_type": "stream",
     "text": [
      "1\n",
      "(Iteration 1 / 125) loss: 7.856646\n",
      "(Epoch 0 / 25) train acc: 0.260000; val_acc: 0.184000\n",
      "(Iteration 2 / 125) loss: 18.315292\n",
      "(Iteration 3 / 125) loss: 16.010289\n",
      "(Iteration 4 / 125) loss: 16.188047\n"
     ]
    },
    {
     "name": "stderr",
     "output_type": "stream",
     "text": [
      "/home/zjutrobot/Desktop/assignment2_colab/assignment2/cs231n/layers.py:159: RuntimeWarning: invalid value encountered in true_divide\n",
      "  x/=(total+1e-3)\n",
      "/home/zjutrobot/Desktop/assignment2_colab/assignment2/cs231n/layers.py:160: RuntimeWarning: divide by zero encountered in log\n",
      "  loss=np.sum(-np.log(x[np.arange(0,x.shape[0],1),y]))\n"
     ]
    },
    {
     "name": "stdout",
     "output_type": "stream",
     "text": [
      "(Iteration 5 / 125) loss: nan\n",
      "(Epoch 1 / 25) train acc: 0.102000; val_acc: 0.087000\n",
      "(Iteration 6 / 125) loss: nan\n",
      "(Iteration 7 / 125) loss: nan\n",
      "(Iteration 8 / 125) loss: nan\n",
      "(Iteration 9 / 125) loss: nan\n",
      "(Iteration 10 / 125) loss: nan\n",
      "(Epoch 2 / 25) train acc: 0.102000; val_acc: 0.087000\n",
      "(Iteration 11 / 125) loss: nan\n",
      "(Iteration 12 / 125) loss: nan\n",
      "(Iteration 13 / 125) loss: nan\n",
      "(Iteration 14 / 125) loss: nan\n",
      "(Iteration 15 / 125) loss: nan\n",
      "(Epoch 3 / 25) train acc: 0.102000; val_acc: 0.087000\n",
      "(Iteration 16 / 125) loss: nan\n",
      "(Iteration 17 / 125) loss: nan\n",
      "(Iteration 18 / 125) loss: nan\n",
      "(Iteration 19 / 125) loss: nan\n",
      "(Iteration 20 / 125) loss: nan\n",
      "(Epoch 4 / 25) train acc: 0.102000; val_acc: 0.087000\n",
      "(Iteration 21 / 125) loss: nan\n",
      "(Iteration 22 / 125) loss: nan\n",
      "(Iteration 23 / 125) loss: nan\n",
      "(Iteration 24 / 125) loss: nan\n",
      "(Iteration 25 / 125) loss: nan\n",
      "(Epoch 5 / 25) train acc: 0.102000; val_acc: 0.087000\n",
      "(Iteration 26 / 125) loss: nan\n",
      "(Iteration 27 / 125) loss: nan\n",
      "(Iteration 28 / 125) loss: nan\n",
      "(Iteration 29 / 125) loss: nan\n",
      "(Iteration 30 / 125) loss: nan\n",
      "(Epoch 6 / 25) train acc: 0.102000; val_acc: 0.087000\n",
      "(Iteration 31 / 125) loss: nan\n",
      "(Iteration 32 / 125) loss: nan\n",
      "(Iteration 33 / 125) loss: nan\n",
      "(Iteration 34 / 125) loss: nan\n",
      "(Iteration 35 / 125) loss: nan\n",
      "(Epoch 7 / 25) train acc: 0.102000; val_acc: 0.087000\n",
      "(Iteration 36 / 125) loss: nan\n",
      "(Iteration 37 / 125) loss: nan\n",
      "(Iteration 38 / 125) loss: nan\n",
      "(Iteration 39 / 125) loss: nan\n",
      "(Iteration 40 / 125) loss: nan\n",
      "(Epoch 8 / 25) train acc: 0.102000; val_acc: 0.087000\n",
      "(Iteration 41 / 125) loss: nan\n",
      "(Iteration 42 / 125) loss: nan\n",
      "(Iteration 43 / 125) loss: nan\n",
      "(Iteration 44 / 125) loss: nan\n",
      "(Iteration 45 / 125) loss: nan\n",
      "(Epoch 9 / 25) train acc: 0.102000; val_acc: 0.087000\n",
      "(Iteration 46 / 125) loss: nan\n",
      "(Iteration 47 / 125) loss: nan\n",
      "(Iteration 48 / 125) loss: nan\n",
      "(Iteration 49 / 125) loss: nan\n",
      "(Iteration 50 / 125) loss: nan\n",
      "(Epoch 10 / 25) train acc: 0.102000; val_acc: 0.087000\n",
      "(Iteration 51 / 125) loss: nan\n",
      "(Iteration 52 / 125) loss: nan\n",
      "(Iteration 53 / 125) loss: nan\n",
      "(Iteration 54 / 125) loss: nan\n",
      "(Iteration 55 / 125) loss: nan\n",
      "(Epoch 11 / 25) train acc: 0.102000; val_acc: 0.087000\n",
      "(Iteration 56 / 125) loss: nan\n",
      "(Iteration 57 / 125) loss: nan\n",
      "(Iteration 58 / 125) loss: nan\n",
      "(Iteration 59 / 125) loss: nan\n",
      "(Iteration 60 / 125) loss: nan\n",
      "(Epoch 12 / 25) train acc: 0.102000; val_acc: 0.087000\n",
      "(Iteration 61 / 125) loss: nan\n",
      "(Iteration 62 / 125) loss: nan\n",
      "(Iteration 63 / 125) loss: nan\n",
      "(Iteration 64 / 125) loss: nan\n",
      "(Iteration 65 / 125) loss: nan\n",
      "(Epoch 13 / 25) train acc: 0.102000; val_acc: 0.087000\n",
      "(Iteration 66 / 125) loss: nan\n",
      "(Iteration 67 / 125) loss: nan\n",
      "(Iteration 68 / 125) loss: nan\n",
      "(Iteration 69 / 125) loss: nan\n",
      "(Iteration 70 / 125) loss: nan\n",
      "(Epoch 14 / 25) train acc: 0.102000; val_acc: 0.087000\n",
      "(Iteration 71 / 125) loss: nan\n",
      "(Iteration 72 / 125) loss: nan\n",
      "(Iteration 73 / 125) loss: nan\n",
      "(Iteration 74 / 125) loss: nan\n",
      "(Iteration 75 / 125) loss: nan\n",
      "(Epoch 15 / 25) train acc: 0.102000; val_acc: 0.087000\n",
      "(Iteration 76 / 125) loss: nan\n",
      "(Iteration 77 / 125) loss: nan\n",
      "(Iteration 78 / 125) loss: nan\n",
      "(Iteration 79 / 125) loss: nan\n",
      "(Iteration 80 / 125) loss: nan\n",
      "(Epoch 16 / 25) train acc: 0.102000; val_acc: 0.087000\n",
      "(Iteration 81 / 125) loss: nan\n",
      "(Iteration 82 / 125) loss: nan\n",
      "(Iteration 83 / 125) loss: nan\n",
      "(Iteration 84 / 125) loss: nan\n",
      "(Iteration 85 / 125) loss: nan\n",
      "(Epoch 17 / 25) train acc: 0.102000; val_acc: 0.087000\n",
      "(Iteration 86 / 125) loss: nan\n",
      "(Iteration 87 / 125) loss: nan\n",
      "(Iteration 88 / 125) loss: nan\n",
      "(Iteration 89 / 125) loss: nan\n",
      "(Iteration 90 / 125) loss: nan\n",
      "(Epoch 18 / 25) train acc: 0.102000; val_acc: 0.087000\n",
      "(Iteration 91 / 125) loss: nan\n",
      "(Iteration 92 / 125) loss: nan\n",
      "(Iteration 93 / 125) loss: nan\n",
      "(Iteration 94 / 125) loss: nan\n",
      "(Iteration 95 / 125) loss: nan\n",
      "(Epoch 19 / 25) train acc: 0.102000; val_acc: 0.087000\n",
      "(Iteration 96 / 125) loss: nan\n",
      "(Iteration 97 / 125) loss: nan\n",
      "(Iteration 98 / 125) loss: nan\n",
      "(Iteration 99 / 125) loss: nan\n",
      "(Iteration 100 / 125) loss: nan\n",
      "(Epoch 20 / 25) train acc: 0.102000; val_acc: 0.087000\n",
      "(Iteration 101 / 125) loss: nan\n",
      "(Iteration 102 / 125) loss: nan\n",
      "(Iteration 103 / 125) loss: nan\n",
      "(Iteration 104 / 125) loss: nan\n",
      "(Iteration 105 / 125) loss: nan\n",
      "(Epoch 21 / 25) train acc: 0.102000; val_acc: 0.087000\n",
      "(Iteration 106 / 125) loss: nan\n",
      "(Iteration 107 / 125) loss: nan\n",
      "(Iteration 108 / 125) loss: nan\n",
      "(Iteration 109 / 125) loss: nan\n",
      "(Iteration 110 / 125) loss: nan\n",
      "(Epoch 22 / 25) train acc: 0.102000; val_acc: 0.087000\n",
      "(Iteration 111 / 125) loss: nan\n",
      "(Iteration 112 / 125) loss: nan\n",
      "(Iteration 113 / 125) loss: nan\n",
      "(Iteration 114 / 125) loss: nan\n",
      "(Iteration 115 / 125) loss: nan\n",
      "(Epoch 23 / 25) train acc: 0.102000; val_acc: 0.087000\n",
      "(Iteration 116 / 125) loss: nan\n",
      "(Iteration 117 / 125) loss: nan\n",
      "(Iteration 118 / 125) loss: nan\n",
      "(Iteration 119 / 125) loss: nan\n",
      "(Iteration 120 / 125) loss: nan\n",
      "(Epoch 24 / 25) train acc: 0.102000; val_acc: 0.087000\n",
      "(Iteration 121 / 125) loss: nan\n",
      "(Iteration 122 / 125) loss: nan\n",
      "(Iteration 123 / 125) loss: nan\n",
      "(Iteration 124 / 125) loss: nan\n",
      "(Iteration 125 / 125) loss: nan\n",
      "(Epoch 25 / 25) train acc: 0.102000; val_acc: 0.087000\n",
      "\n",
      "0.25\n",
      "(Iteration 1 / 125) loss: 4.897410\n",
      "(Epoch 0 / 25) train acc: 0.240000; val_acc: 0.196000\n",
      "(Iteration 2 / 125) loss: 5.628108\n",
      "(Iteration 3 / 125) loss: 4.619065\n",
      "(Iteration 4 / 125) loss: 6.350412\n",
      "(Iteration 5 / 125) loss: 5.581073\n",
      "(Epoch 1 / 25) train acc: 0.388000; val_acc: 0.257000\n",
      "(Iteration 6 / 125) loss: 4.644832\n",
      "(Iteration 7 / 125) loss: 6.087344\n",
      "(Iteration 8 / 125) loss: 5.609634\n",
      "(Iteration 9 / 125) loss: 4.513147\n",
      "(Iteration 10 / 125) loss: 5.398116\n",
      "(Epoch 2 / 25) train acc: 0.420000; val_acc: 0.263000\n",
      "(Iteration 11 / 125) loss: 6.250862\n",
      "(Iteration 12 / 125) loss: 5.589316\n",
      "(Iteration 13 / 125) loss: 5.920354\n",
      "(Iteration 14 / 125) loss: 4.993175\n",
      "(Iteration 15 / 125) loss: 5.345610\n",
      "(Epoch 3 / 25) train acc: 0.516000; val_acc: 0.290000\n",
      "(Iteration 16 / 125) loss: 4.798380\n",
      "(Iteration 17 / 125) loss: 5.011912\n",
      "(Iteration 18 / 125) loss: 5.241116\n",
      "(Iteration 19 / 125) loss: 5.121865\n",
      "(Iteration 20 / 125) loss: 4.427922\n",
      "(Epoch 4 / 25) train acc: 0.568000; val_acc: 0.296000\n",
      "(Iteration 21 / 125) loss: 4.521480\n",
      "(Iteration 22 / 125) loss: 3.889939\n",
      "(Iteration 23 / 125) loss: 4.524767\n",
      "(Iteration 24 / 125) loss: 4.325931\n",
      "(Iteration 25 / 125) loss: 3.208295\n",
      "(Epoch 5 / 25) train acc: 0.620000; val_acc: 0.299000\n",
      "(Iteration 26 / 125) loss: 3.939729\n",
      "(Iteration 27 / 125) loss: 3.658056\n",
      "(Iteration 28 / 125) loss: 4.190919\n",
      "(Iteration 29 / 125) loss: 3.670871\n",
      "(Iteration 30 / 125) loss: 2.766749\n",
      "(Epoch 6 / 25) train acc: 0.674000; val_acc: 0.299000\n",
      "(Iteration 31 / 125) loss: 4.203186\n",
      "(Iteration 32 / 125) loss: 3.809424\n",
      "(Iteration 33 / 125) loss: 3.580403\n",
      "(Iteration 34 / 125) loss: 3.290723\n",
      "(Iteration 35 / 125) loss: 2.789704\n",
      "(Epoch 7 / 25) train acc: 0.690000; val_acc: 0.307000\n",
      "(Iteration 36 / 125) loss: 3.264753\n",
      "(Iteration 37 / 125) loss: 3.245382\n",
      "(Iteration 38 / 125) loss: 2.897425\n",
      "(Iteration 39 / 125) loss: 3.660640\n",
      "(Iteration 40 / 125) loss: 2.838524\n",
      "(Epoch 8 / 25) train acc: 0.726000; val_acc: 0.311000\n",
      "(Iteration 41 / 125) loss: 2.627496\n",
      "(Iteration 42 / 125) loss: 2.902948\n",
      "(Iteration 43 / 125) loss: 2.289022\n",
      "(Iteration 44 / 125) loss: 3.469231\n",
      "(Iteration 45 / 125) loss: 2.608410\n",
      "(Epoch 9 / 25) train acc: 0.756000; val_acc: 0.302000\n",
      "(Iteration 46 / 125) loss: 3.074460\n",
      "(Iteration 47 / 125) loss: 2.423861\n",
      "(Iteration 48 / 125) loss: 2.531753\n",
      "(Iteration 49 / 125) loss: 2.792840\n",
      "(Iteration 50 / 125) loss: 2.718488\n",
      "(Epoch 10 / 25) train acc: 0.776000; val_acc: 0.312000\n",
      "(Iteration 51 / 125) loss: 2.233597\n",
      "(Iteration 52 / 125) loss: 2.446987\n",
      "(Iteration 53 / 125) loss: 2.233817\n",
      "(Iteration 54 / 125) loss: 1.837865\n",
      "(Iteration 55 / 125) loss: 2.135876\n",
      "(Epoch 11 / 25) train acc: 0.790000; val_acc: 0.312000\n",
      "(Iteration 56 / 125) loss: 1.945673\n",
      "(Iteration 57 / 125) loss: 1.951209\n",
      "(Iteration 58 / 125) loss: 2.026817\n",
      "(Iteration 59 / 125) loss: 2.290292\n",
      "(Iteration 60 / 125) loss: 2.691148\n",
      "(Epoch 12 / 25) train acc: 0.822000; val_acc: 0.309000\n",
      "(Iteration 61 / 125) loss: 2.385643\n",
      "(Iteration 62 / 125) loss: 1.687742\n",
      "(Iteration 63 / 125) loss: 1.491653\n",
      "(Iteration 64 / 125) loss: 2.111504\n",
      "(Iteration 65 / 125) loss: 2.403729\n",
      "(Epoch 13 / 25) train acc: 0.852000; val_acc: 0.335000\n"
     ]
    },
    {
     "name": "stdout",
     "output_type": "stream",
     "text": [
      "(Iteration 66 / 125) loss: 1.982572\n",
      "(Iteration 67 / 125) loss: 1.545383\n",
      "(Iteration 68 / 125) loss: 1.303893\n",
      "(Iteration 69 / 125) loss: 2.231469\n",
      "(Iteration 70 / 125) loss: 1.382883\n",
      "(Epoch 14 / 25) train acc: 0.846000; val_acc: 0.324000\n",
      "(Iteration 71 / 125) loss: 1.663293\n",
      "(Iteration 72 / 125) loss: 1.764550\n",
      "(Iteration 73 / 125) loss: 1.944642\n",
      "(Iteration 74 / 125) loss: 2.301672\n",
      "(Iteration 75 / 125) loss: 1.714320\n",
      "(Epoch 15 / 25) train acc: 0.864000; val_acc: 0.327000\n",
      "(Iteration 76 / 125) loss: 1.274760\n",
      "(Iteration 77 / 125) loss: 2.073468\n",
      "(Iteration 78 / 125) loss: 1.863885\n",
      "(Iteration 79 / 125) loss: 1.721916\n",
      "(Iteration 80 / 125) loss: 1.656447\n",
      "(Epoch 16 / 25) train acc: 0.886000; val_acc: 0.316000\n",
      "(Iteration 81 / 125) loss: 1.396099\n",
      "(Iteration 82 / 125) loss: 1.867052\n",
      "(Iteration 83 / 125) loss: 1.324859\n",
      "(Iteration 84 / 125) loss: 1.763324\n",
      "(Iteration 85 / 125) loss: 1.963674\n",
      "(Epoch 17 / 25) train acc: 0.894000; val_acc: 0.300000\n",
      "(Iteration 86 / 125) loss: 2.009923\n",
      "(Iteration 87 / 125) loss: 1.487777\n",
      "(Iteration 88 / 125) loss: 1.035323\n",
      "(Iteration 89 / 125) loss: 1.109072\n",
      "(Iteration 90 / 125) loss: 1.690263\n",
      "(Epoch 18 / 25) train acc: 0.892000; val_acc: 0.315000\n",
      "(Iteration 91 / 125) loss: 2.075329\n",
      "(Iteration 92 / 125) loss: 1.529382\n",
      "(Iteration 93 / 125) loss: 1.436057\n",
      "(Iteration 94 / 125) loss: 1.410589\n",
      "(Iteration 95 / 125) loss: 1.868545\n",
      "(Epoch 19 / 25) train acc: 0.912000; val_acc: 0.337000\n",
      "(Iteration 96 / 125) loss: 0.938812\n",
      "(Iteration 97 / 125) loss: 1.506107\n",
      "(Iteration 98 / 125) loss: 1.303695\n",
      "(Iteration 99 / 125) loss: 1.433652\n",
      "(Iteration 100 / 125) loss: 1.694972\n",
      "(Epoch 20 / 25) train acc: 0.924000; val_acc: 0.311000\n",
      "(Iteration 101 / 125) loss: 1.160183\n",
      "(Iteration 102 / 125) loss: 2.042568\n",
      "(Iteration 103 / 125) loss: 1.536261\n",
      "(Iteration 104 / 125) loss: 1.324214\n",
      "(Iteration 105 / 125) loss: 1.352463\n",
      "(Epoch 21 / 25) train acc: 0.918000; val_acc: 0.321000\n",
      "(Iteration 106 / 125) loss: 0.882319\n",
      "(Iteration 107 / 125) loss: 1.504657\n",
      "(Iteration 108 / 125) loss: 1.790527\n",
      "(Iteration 109 / 125) loss: 1.382196\n",
      "(Iteration 110 / 125) loss: 1.196811\n",
      "(Epoch 22 / 25) train acc: 0.902000; val_acc: 0.310000\n",
      "(Iteration 111 / 125) loss: 1.344814\n",
      "(Iteration 112 / 125) loss: 1.444192\n",
      "(Iteration 113 / 125) loss: 1.279556\n",
      "(Iteration 114 / 125) loss: 1.000145\n",
      "(Iteration 115 / 125) loss: 1.090933\n",
      "(Epoch 23 / 25) train acc: 0.918000; val_acc: 0.334000\n",
      "(Iteration 116 / 125) loss: 1.170400\n",
      "(Iteration 117 / 125) loss: 1.378730\n",
      "(Iteration 118 / 125) loss: 1.272289\n",
      "(Iteration 119 / 125) loss: 1.321674\n",
      "(Iteration 120 / 125) loss: 1.544511\n",
      "(Epoch 24 / 25) train acc: 0.920000; val_acc: 0.328000\n",
      "(Iteration 121 / 125) loss: 1.107592\n",
      "(Iteration 122 / 125) loss: 1.462261\n",
      "(Iteration 123 / 125) loss: 1.231126\n",
      "(Iteration 124 / 125) loss: 0.787139\n",
      "(Iteration 125 / 125) loss: 1.216568\n",
      "(Epoch 25 / 25) train acc: 0.904000; val_acc: 0.318000\n",
      "\n"
     ]
    }
   ],
   "source": [
    "# Train two identical nets, one with dropout and one without.\n",
    "np.random.seed(231)\n",
    "num_train = 500\n",
    "small_data = {\n",
    "    'X_train': data['X_train'][:num_train],\n",
    "    'y_train': data['y_train'][:num_train],\n",
    "    'X_val': data['X_val'],\n",
    "    'y_val': data['y_val'],\n",
    "}\n",
    "\n",
    "solvers = {}\n",
    "dropout_choices = [1, 0.25]\n",
    "for dropout_keep_ratio in dropout_choices:\n",
    "    model = FullyConnectedNet(\n",
    "        [500],\n",
    "        dropout_keep_ratio=dropout_keep_ratio\n",
    "    )\n",
    "    print(dropout_keep_ratio)\n",
    "\n",
    "    solver = Solver(\n",
    "        model,\n",
    "        small_data,\n",
    "        num_epochs=25,\n",
    "        batch_size=100,\n",
    "        update_rule='adam',\n",
    "        optim_config={'learning_rate': 5e-4,},\n",
    "        verbose=True,\n",
    "        print_every=100\n",
    "    )\n",
    "    solver.train()\n",
    "    solvers[dropout_keep_ratio] = solver\n",
    "    print()"
   ]
  },
  {
   "cell_type": "code",
   "execution_count": 23,
   "metadata": {},
   "outputs": [
    {
     "data": {
      "image/png": "[encoded data removed]",
      "text/plain": [
       "<Figure size 1080x1080 with 2 Axes>"
      ]
     },
     "metadata": {},
     "output_type": "display_data"
    }
   ],
   "source": [
    "# Plot train and validation accuracies of the two models.\n",
    "train_accs = []\n",
    "val_accs = []\n",
    "for dropout_keep_ratio in dropout_choices:\n",
    "    solver = solvers[dropout_keep_ratio]\n",
    "    train_accs.append(solver.train_acc_history[-1])\n",
    "    val_accs.append(solver.val_acc_history[-1])\n",
    "\n",
    "plt.subplot(3, 1, 1)\n",
    "for dropout_keep_ratio in dropout_choices:\n",
    "    plt.plot(\n",
    "        solvers[dropout_keep_ratio].train_acc_history, 'o', label='%.2f dropout_keep_ratio' % dropout_keep_ratio)\n",
    "plt.title('Train accuracy')\n",
    "plt.xlabel('Epoch')\n",
    "plt.ylabel('Accuracy')\n",
    "plt.legend(ncol=2, loc='lower right')\n",
    "  \n",
    "plt.subplot(3, 1, 2)\n",
    "for dropout_keep_ratio in dropout_choices:\n",
    "    plt.plot(\n",
    "        solvers[dropout_keep_ratio].val_acc_history, 'o', label='%.2f dropout_keep_ratio' % dropout_keep_ratio)\n",
    "plt.title('Val accuracy')\n",
    "plt.xlabel('Epoch')\n",
    "plt.ylabel('Accuracy')\n",
    "plt.legend(ncol=2, loc='lower right')\n",
    "\n",
    "plt.gcf().set_size_inches(15, 15)\n",
    "plt.show()"
   ]
  },
  {
   "cell_type": "markdown",
   "metadata": {
    "tags": [
     "pdf-inline"
    ]
   },
   "source": [
    "## Inline Question 2:\n",
    "Compare the validation and training accuracies with and without dropout -- what do your results suggest about dropout as a regularizer?\n",
    "\n",
    "## Answer:\n",
    "[FILL THIS IN]\n"
   ]
  },
  {
   "cell_type": "markdown",
   "metadata": {
    "tags": [
     "pdf-inline"
    ]
   },
   "source": [
    "## Inline Question 3:\n",
    "Suppose we are training a deep fully connected network for image classification, with dropout after hidden layers (parameterized by keep probability `p`). If we are concerned about overfitting, how should we modify `p` (if at all) when we decide to decrease the size of the hidden layers (that is, the number of nodes in each layer)?\n",
    "\n",
    "## Answer:\n",
    "[FILL THIS IN]\n"
   ]
  },
  {
   "cell_type": "code",
   "execution_count": null,
   "metadata": {},
   "outputs": [],
   "source": []
  }
 ],
 "metadata": {
  "kernelspec": {
   "display_name": "Python 3",
   "language": "python",
   "name": "python3"
  },
  "language_info": {
   "codemirror_mode": {
    "name": "ipython",
    "version": 3
   },
   "file_extension": ".py",
   "mimetype": "text/x-python",
   "name": "python",
   "nbconvert_exporter": "python",
   "pygments_lexer": "ipython3",
   "version": "3.6.5"
  }
 },
 "nbformat": 4,
 "nbformat_minor": 4
}
